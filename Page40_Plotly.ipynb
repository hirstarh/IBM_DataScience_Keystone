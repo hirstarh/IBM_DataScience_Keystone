{
 "cells": [
  {
   "cell_type": "code",
   "execution_count": 1,
   "id": "9f940a74-5334-4480-865a-4547f4f6fad8",
   "metadata": {},
   "outputs": [
    {
     "name": "stderr",
     "output_type": "stream",
     "text": [
      "/tmp/ipykernel_9681/3094260940.py:3: UserWarning: \n",
      "The dash_html_components package is deprecated. Please replace\n",
      "`import dash_html_components as html` with `from dash import html`\n",
      "  import dash_html_components as html\n",
      "/tmp/ipykernel_9681/3094260940.py:4: UserWarning: \n",
      "The dash_core_components package is deprecated. Please replace\n",
      "`import dash_core_components as dcc` with `from dash import dcc`\n",
      "  import dash_core_components as dcc\n"
     ]
    },
    {
     "data": {
      "text/html": [
       "\n",
       "        <iframe\n",
       "            width=\"100%\"\n",
       "            height=\"650\"\n",
       "            src=\"http://ARH-Wrkst1:8052/\"\n",
       "            frameborder=\"0\"\n",
       "            allowfullscreen\n",
       "            \n",
       "        ></iframe>\n",
       "        "
      ],
      "text/plain": [
       "<IPython.lib.display.IFrame at 0x7f38f8178710>"
      ]
     },
     "metadata": {},
     "output_type": "display_data"
    }
   ],
   "source": [
    "import pandas as pd\n",
    "import dash\n",
    "import dash_html_components as html\n",
    "import dash_core_components as dcc\n",
    "from dash.dependencies import Input, Output\n",
    "import plotly.express as px\n",
    "\n",
    "spacex_df = pd.read_csv(\"spacex_launch_dash.csv\")\n",
    "max_payload = spacex_df['Payload Mass (kg)'].max()\n",
    "min_payload = spacex_df['Payload Mass (kg)'].min()\n",
    "\n",
    "app = dash.Dash(__name__)\n",
    "server = app.server\n",
    "\n",
    "uniquelaunchsites = spacex_df['Launch Site'].unique().tolist()\n",
    "lsites = [{'label': 'All Sites', 'value': 'All Sites'}] + [{'label': site, 'value': site} for site in uniquelaunchsites]\n",
    "\n",
    "app.layout = html.Div(children=[\n",
    "    html.H1('SpaceX Launch Records Dashboard', style={'textAlign': 'center', 'color': '#503D36', 'font-size': 40}),\n",
    "    dcc.Dropdown(id='site_dropdown', options=lsites, placeholder='Select a Launch Site here', searchable=True, value='All Sites'),\n",
    "    html.Br(),\n",
    "    html.Div(dcc.Graph(id='success-pie-chart')),\n",
    "    html.Br(),\n",
    "    html.P(\"Payload range (Kg):\"),\n",
    "    dcc.RangeSlider(\n",
    "        id='payload_slider',\n",
    "        min=0,\n",
    "        max=10000,\n",
    "        step=1000,\n",
    "        marks={i: f'{i} kg' for i in range(0, 10001, 1000)},\n",
    "        value=[min_payload, max_payload]\n",
    "    ),\n",
    "    html.Div(dcc.Graph(id='success-payload-scatter-chart')),\n",
    "])\n",
    "\n",
    "@app.callback(\n",
    "    Output(component_id='success-pie-chart', component_property='figure'),\n",
    "    [Input(component_id='site_dropdown', component_property='value')]\n",
    ")\n",
    "def update_graph(site_dropdown):\n",
    "    if site_dropdown == 'All Sites':\n",
    "        df = spacex_df.groupby('class').size().reset_index(name='counts')\n",
    "        df['class'] = df['class'].replace({1: 'Success', 0: 'Failure'})\n",
    "        fig = px.pie(df, names='class', values='counts', hole=.4, title='Total Success vs Failure Launches')\n",
    "    else:\n",
    "        df = spacex_df[spacex_df['Launch Site'] == site_dropdown].groupby('class').size().reset_index(name='counts')\n",
    "        df['class'] = df['class'].replace({1: 'Success', 0: 'Failure'})\n",
    "        fig = px.pie(df, names='class', values='counts', hole=.4, title=f'Total Success vs Failure Launches for site {site_dropdown}')\n",
    "    return fig\n",
    "\n",
    "@app.callback(\n",
    "    Output(component_id='success-payload-scatter-chart', component_property='figure'),\n",
    "    [Input(component_id='site_dropdown', component_property='value'), Input(component_id=\"payload_slider\", component_property=\"value\")]\n",
    ")\n",
    "def update_scattergraph(site_dropdown, payload_slider):\n",
    "    low, high = payload_slider\n",
    "    if site_dropdown == 'All Sites':\n",
    "        df = spacex_df\n",
    "    else:\n",
    "        df = spacex_df[spacex_df['Launch Site'] == site_dropdown]\n",
    "    \n",
    "    mask = (df['Payload Mass (kg)'] >= low) & (df['Payload Mass (kg)'] <= high)\n",
    "    fig = px.scatter(\n",
    "        df[mask], x=\"Payload Mass (kg)\", y=\"class\",\n",
    "        color=\"Booster Version\",\n",
    "        size='Payload Mass (kg)',\n",
    "        hover_data=['Payload Mass (kg)']\n",
    "    )\n",
    "    return fig\n",
    "\n",
    "if __name__ == '__main__':\n",
    "    app.run_server(debug=False, port=8052)  # Change the port number here\n"
   ]
  },
  {
   "cell_type": "code",
   "execution_count": null,
   "id": "6851f6c1-8e34-4d9c-bd08-ea0887295608",
   "metadata": {},
   "outputs": [],
   "source": []
  }
 ],
 "metadata": {
  "kernelspec": {
   "display_name": "Python 3 (ipykernel)",
   "language": "python",
   "name": "python3"
  },
  "language_info": {
   "codemirror_mode": {
    "name": "ipython",
    "version": 3
   },
   "file_extension": ".py",
   "mimetype": "text/x-python",
   "name": "python",
   "nbconvert_exporter": "python",
   "pygments_lexer": "ipython3",
   "version": "3.11.9"
  }
 },
 "nbformat": 4,
 "nbformat_minor": 5
}
